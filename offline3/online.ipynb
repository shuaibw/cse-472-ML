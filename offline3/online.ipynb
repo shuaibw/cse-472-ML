{
 "cells": [
  {
   "cell_type": "code",
   "execution_count": 15,
   "metadata": {},
   "outputs": [],
   "source": [
    "import pickle\n",
    "import numpy as np\n",
    "from train_1805010 import Network, DenseLayer, ActivationLayer, DropoutLayer, extract_data_and_labels\n",
    "from sklearn.metrics import f1_score\n",
    "\n",
    "test_data = pickle.load(open('ids7.pickle', 'rb'))"
   ]
  },
  {
   "cell_type": "code",
   "execution_count": 16,
   "metadata": {},
   "outputs": [],
   "source": [
    "def load_test():\n",
    "    X, y = extract_data_and_labels(test_data)\n",
    "    X = X.T\n",
    "    y = y - 1\n",
    "    y_oh = np.eye(26)[y.astype('int32')]\n",
    "    y_oh = y_oh.T\n",
    "    return X, y_oh, y"
   ]
  },
  {
   "cell_type": "code",
   "execution_count": 13,
   "metadata": {},
   "outputs": [
    {
     "name": "stderr",
     "output_type": "stream",
     "text": [
      "100%|██████████| 20800/20800 [00:03<00:00, 6573.21it/s]\n"
     ]
    }
   ],
   "source": [
    "X_test, y_test, y_test_raw = load_test()"
   ]
  },
  {
   "cell_type": "code",
   "execution_count": 14,
   "metadata": {},
   "outputs": [],
   "source": [
    "with open('model_1805010.pickle', 'rb') as f:\n",
    "    model = pickle.load(f)"
   ]
  },
  {
   "cell_type": "code",
   "execution_count": 17,
   "metadata": {},
   "outputs": [
    {
     "name": "stdout",
     "output_type": "stream",
     "text": [
      "Testing accuracy: 0.89226\n",
      "Test macro F1 score: 0.89228\n"
     ]
    }
   ],
   "source": [
    "preds, acc = model.predict(X_test, y_test)\n",
    "print(f\"Testing accuracy: {acc:.5f}\")\n",
    "macro_f1 = f1_score(y_test_raw, preds, average='macro')\n",
    "print(f'Test macro F1 score: {macro_f1:.5f}')\n"
   ]
  },
  {
   "cell_type": "code",
   "execution_count": 18,
   "metadata": {},
   "outputs": [
    {
     "name": "stdout",
     "output_type": "stream",
     "text": [
      "Class 1: 800\n",
      "Class 2: 800\n",
      "Class 3: 800\n",
      "Class 4: 800\n",
      "Class 5: 800\n",
      "Class 6: 800\n",
      "Class 7: 800\n",
      "Class 8: 800\n",
      "Class 9: 800\n",
      "Class 10: 800\n",
      "Class 11: 800\n",
      "Class 12: 800\n",
      "Class 13: 800\n",
      "Class 14: 800\n",
      "Class 15: 800\n",
      "Class 16: 800\n",
      "Class 17: 800\n",
      "Class 18: 800\n",
      "Class 19: 800\n",
      "Class 20: 800\n",
      "Class 21: 800\n",
      "Class 22: 800\n",
      "Class 23: 800\n",
      "Class 24: 800\n",
      "Class 25: 800\n",
      "Class 26: 800\n"
     ]
    }
   ],
   "source": [
    "# print how many letters are in each class\n",
    "\n",
    "for i in range(26):\n",
    "    print(f'Class {i+1}: {np.sum(y_test_raw == i)}')\n"
   ]
  }
 ],
 "metadata": {
  "kernelspec": {
   "display_name": "Python 3",
   "language": "python",
   "name": "python3"
  },
  "language_info": {
   "codemirror_mode": {
    "name": "ipython",
    "version": 3
   },
   "file_extension": ".py",
   "mimetype": "text/x-python",
   "name": "python",
   "nbconvert_exporter": "python",
   "pygments_lexer": "ipython3",
   "version": "3.12.1"
  }
 },
 "nbformat": 4,
 "nbformat_minor": 2
}
